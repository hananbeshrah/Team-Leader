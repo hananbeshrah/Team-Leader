{
  "nbformat": 4,
  "nbformat_minor": 0,
  "metadata": {
    "interpreter": {
      "hash": "e7370f93d1d0cde622a1f8e1c04877d8463912d04d973331ad4851f04de6915a"
    },
    "kernelspec": {
      "display_name": "Python 3.8.11 64-bit ('base': conda)",
      "language": "python",
      "name": "python3"
    },
    "language_info": {
      "codemirror_mode": {
        "name": "ipython",
        "version": 3
      },
      "file_extension": ".py",
      "mimetype": "text/x-python",
      "name": "python",
      "nbconvert_exporter": "python",
      "pygments_lexer": "ipython3",
      "version": "3.9.7"
    },
    "colab": {
      "name": "Regression_Mini-Project.ipynb",
      "provenance": []
    }
  },
  "cells": [
    {
      "cell_type": "markdown",
      "metadata": {
        "id": "ajnvi2610bmr"
      },
      "source": [
        "# Linear Regression - Mini-Project 1\n"
      ]
    },
    {
      "cell_type": "markdown",
      "metadata": {
        "id": "-GEKZulb0bmw"
      },
      "source": [
        "***Edit this cell with your name(s), tutorial number(s) and ID(s)***\n",
        "\n",
        "---\n",
        "\n",
        "Name: Hanan Beshrah\n",
        "\n",
        "ID: 46-309\n",
        "\n",
        "Tutorial: T02\n",
        "\n",
        "---\n",
        "\n",
        "Name: Farah Hussien\n",
        "\n",
        "ID: 46-7731\n",
        "\n",
        "Tutorial: T02\n",
        "\n",
        "---\n"
      ]
    },
    {
      "cell_type": "markdown",
      "metadata": {
        "id": "yS8vFsUe0bmx"
      },
      "source": [
        "## Dataset Description\n",
        "\n",
        "The dataset contains historical car auction sales prices, scraped from the outside internet sources and collected in 2015.\n",
        "\n",
        "Each row represents a sale at a used car auction. Each column is described below.\n",
        "\n",
        "| Column       | Description                                                                                          |\n",
        "| ------------ | ---------------------------------------------------------------------------------------------------- |\n",
        "| year         | Car's year of production                                                                             |\n",
        "| make         | Car make/brand                                                                                       |\n",
        "| model        | Car model                                                                                            |\n",
        "| trim         | Car's trim or grade, which specifies a car model's level of performance, features, options or extras |\n",
        "| body         | Car body type (e.g. Sedan, SUV, Coupe, etc.)                                                         |\n",
        "| transmission | Car transmission type. The mechanism that moves the power from the engine to the wheels.             |\n",
        "| vin          | Vehicle Identification Number, a unique code to identify individual motor vehicles.                  |\n",
        "| state        | The state in which the car was auctioned.                                                            |\n",
        "| condition    | The condition of the cars being at the time of auction, 5 being the best score and 1 being the worst.|\n",
        "| odometer     | The distance traveled by a vehicle since being manufactured, in miles                                |\n",
        "| color        | Exterior color of the car                                                                            |\n",
        "| interior     | Interior color of the car                                                                            |\n",
        "| seller       | The seller of the car or car dealer                                                                  |\n",
        "| mmr          | Manheim\\* Market Report, the market estimated price of the cars. An indicator of wholesale prices.   |\n",
        "| sellingprice | The price a car was sold at in auction.                                                              |\n",
        "| saledate     | The date on which the car has been sold.                                                             |\n",
        "\n",
        "\\*Manheim is a company established in 1945 as a car auction company. It has grown to a very reputable company and its MMR is a baseline tool for wholesale car price determination. They base their price calculations on over 10 million transaction over the past 13-month period to.\n"
      ]
    },
    {
      "cell_type": "markdown",
      "metadata": {
        "id": "PkAPZYav0bmz"
      },
      "source": [
        "## Importing Libraries \\& Dataset\n"
      ]
    },
    {
      "cell_type": "code",
      "metadata": {
        "colab": {
          "base_uri": "https://localhost:8080/",
          "height": 1000
        },
        "id": "uFqGEodo0bm0",
        "outputId": "cf0aa0ed-aa34-4bfe-e163-b48d37723759"
      },
      "source": [
        "import pandas as pd\n",
        "import numpy as np\n",
        "import matplotlib.pyplot as plt\n",
        "import seaborn as sns\n",
        "\n",
        "%matplotlib inline\n",
        "plt.style.use(\"seaborn\")\n",
        "\n",
        "try:\n",
        "    df = pd.read_csv('car_prices.csv')\n",
        "except:\n",
        "    df = pd.read_csv('https://raw.githubusercontent.com/GUC-DM/W2021/main/data/car_prices.csv')\n",
        "\n",
        "df.head(200)"
      ],
      "execution_count": 43,
      "outputs": [
        {
          "output_type": "execute_result",
          "data": {
            "text/html": [
              "<div>\n",
              "<style scoped>\n",
              "    .dataframe tbody tr th:only-of-type {\n",
              "        vertical-align: middle;\n",
              "    }\n",
              "\n",
              "    .dataframe tbody tr th {\n",
              "        vertical-align: top;\n",
              "    }\n",
              "\n",
              "    .dataframe thead th {\n",
              "        text-align: right;\n",
              "    }\n",
              "</style>\n",
              "<table border=\"1\" class=\"dataframe\">\n",
              "  <thead>\n",
              "    <tr style=\"text-align: right;\">\n",
              "      <th></th>\n",
              "      <th>year</th>\n",
              "      <th>make</th>\n",
              "      <th>model</th>\n",
              "      <th>trim</th>\n",
              "      <th>body</th>\n",
              "      <th>transmission</th>\n",
              "      <th>vin</th>\n",
              "      <th>state</th>\n",
              "      <th>condition</th>\n",
              "      <th>odometer</th>\n",
              "      <th>color</th>\n",
              "      <th>interior</th>\n",
              "      <th>seller</th>\n",
              "      <th>mmr</th>\n",
              "      <th>sellingprice</th>\n",
              "      <th>saledate</th>\n",
              "    </tr>\n",
              "  </thead>\n",
              "  <tbody>\n",
              "    <tr>\n",
              "      <th>0</th>\n",
              "      <td>2013</td>\n",
              "      <td>Hyundai</td>\n",
              "      <td>Sonata</td>\n",
              "      <td>GLS</td>\n",
              "      <td>sedan</td>\n",
              "      <td>automatic</td>\n",
              "      <td>5npeb4acxdh702805</td>\n",
              "      <td>ma</td>\n",
              "      <td>3.9</td>\n",
              "      <td>50404.0mi</td>\n",
              "      <td>black</td>\n",
              "      <td>gray</td>\n",
              "      <td>the hertz corporation</td>\n",
              "      <td>$11000</td>\n",
              "      <td>$10900</td>\n",
              "      <td>Tue Jun 02 2015 02:30:00 GMT-0700 (PDT)</td>\n",
              "    </tr>\n",
              "    <tr>\n",
              "      <th>1</th>\n",
              "      <td>2014</td>\n",
              "      <td>Toyota</td>\n",
              "      <td>4Runner</td>\n",
              "      <td>SR5</td>\n",
              "      <td>SUV</td>\n",
              "      <td>automatic</td>\n",
              "      <td>jtezu5jr2e5064567</td>\n",
              "      <td>fl</td>\n",
              "      <td>4.9</td>\n",
              "      <td>17846.0mi</td>\n",
              "      <td>gray</td>\n",
              "      <td>—</td>\n",
              "      <td>award auto sales and leasing inc</td>\n",
              "      <td>$28700</td>\n",
              "      <td>$29900</td>\n",
              "      <td>Wed Feb 18 2015 07:15:00 GMT-0800 (PST)</td>\n",
              "    </tr>\n",
              "    <tr>\n",
              "      <th>2</th>\n",
              "      <td>2012</td>\n",
              "      <td>Lexus</td>\n",
              "      <td>IS 250</td>\n",
              "      <td>Base</td>\n",
              "      <td>Sedan</td>\n",
              "      <td>automatic</td>\n",
              "      <td>jthbf5c24c5168599</td>\n",
              "      <td>fl</td>\n",
              "      <td>4.1</td>\n",
              "      <td>21122.0mi</td>\n",
              "      <td>silver</td>\n",
              "      <td>black</td>\n",
              "      <td>lexus financial services</td>\n",
              "      <td>$22200</td>\n",
              "      <td>$24200</td>\n",
              "      <td>Tue Jan 20 2015 01:30:00 GMT-0800 (PST)</td>\n",
              "    </tr>\n",
              "    <tr>\n",
              "      <th>3</th>\n",
              "      <td>2002</td>\n",
              "      <td>BMW</td>\n",
              "      <td>X5</td>\n",
              "      <td>4.4i</td>\n",
              "      <td>SUV</td>\n",
              "      <td>automatic</td>\n",
              "      <td>5uxfb33562lh33864</td>\n",
              "      <td>fl</td>\n",
              "      <td>1.9</td>\n",
              "      <td>145303.0mi</td>\n",
              "      <td>black</td>\n",
              "      <td>black</td>\n",
              "      <td>peddle llc</td>\n",
              "      <td>$3675</td>\n",
              "      <td>$3200</td>\n",
              "      <td>Wed Mar 04 2015 07:10:00 GMT-0800 (PST)</td>\n",
              "    </tr>\n",
              "    <tr>\n",
              "      <th>4</th>\n",
              "      <td>2014</td>\n",
              "      <td>Ford</td>\n",
              "      <td>E-Series Van</td>\n",
              "      <td>E-250</td>\n",
              "      <td>E-Series Van</td>\n",
              "      <td>automatic</td>\n",
              "      <td>1ftne2ew0eda31832</td>\n",
              "      <td>wa</td>\n",
              "      <td>4.9</td>\n",
              "      <td>6714.0mi</td>\n",
              "      <td>white</td>\n",
              "      <td>gray</td>\n",
              "      <td>u-haul</td>\n",
              "      <td>$22500</td>\n",
              "      <td>$22100</td>\n",
              "      <td>Wed Feb 18 2015 06:45:00 GMT-0800 (PST)</td>\n",
              "    </tr>\n",
              "    <tr>\n",
              "      <th>...</th>\n",
              "      <td>...</td>\n",
              "      <td>...</td>\n",
              "      <td>...</td>\n",
              "      <td>...</td>\n",
              "      <td>...</td>\n",
              "      <td>...</td>\n",
              "      <td>...</td>\n",
              "      <td>...</td>\n",
              "      <td>...</td>\n",
              "      <td>...</td>\n",
              "      <td>...</td>\n",
              "      <td>...</td>\n",
              "      <td>...</td>\n",
              "      <td>...</td>\n",
              "      <td>...</td>\n",
              "      <td>...</td>\n",
              "    </tr>\n",
              "    <tr>\n",
              "      <th>195</th>\n",
              "      <td>2013</td>\n",
              "      <td>Toyota</td>\n",
              "      <td>Prius</td>\n",
              "      <td>Two</td>\n",
              "      <td>hatchback</td>\n",
              "      <td>automatic</td>\n",
              "      <td>jtdkn3du1d1692987</td>\n",
              "      <td>ca</td>\n",
              "      <td>3.5</td>\n",
              "      <td>52129.0mi</td>\n",
              "      <td>gray</td>\n",
              "      <td>gray</td>\n",
              "      <td>enterprise vehicle exchange/orange</td>\n",
              "      <td>$10800</td>\n",
              "      <td>$12500</td>\n",
              "      <td>Tue Jun 09 2015 05:30:00 GMT-0700 (PDT)</td>\n",
              "    </tr>\n",
              "    <tr>\n",
              "      <th>196</th>\n",
              "      <td>2013</td>\n",
              "      <td>BMW</td>\n",
              "      <td>3 Series</td>\n",
              "      <td>328i xDrive</td>\n",
              "      <td>sedan</td>\n",
              "      <td>automatic</td>\n",
              "      <td>wba3b5c55df590482</td>\n",
              "      <td>oh</td>\n",
              "      <td>3.4</td>\n",
              "      <td>39424.0mi</td>\n",
              "      <td>gray</td>\n",
              "      <td>black</td>\n",
              "      <td>car source</td>\n",
              "      <td>$23600</td>\n",
              "      <td>$23500</td>\n",
              "      <td>Tue Jun 02 2015 02:30:00 GMT-0700 (PDT)</td>\n",
              "    </tr>\n",
              "    <tr>\n",
              "      <th>197</th>\n",
              "      <td>2012</td>\n",
              "      <td>Mercedes-Benz</td>\n",
              "      <td>E-Class</td>\n",
              "      <td>E350 Luxury</td>\n",
              "      <td>Sedan</td>\n",
              "      <td>automatic</td>\n",
              "      <td>wddhf5kb6ca586365</td>\n",
              "      <td>ca</td>\n",
              "      <td>3.4</td>\n",
              "      <td>18155.0mi</td>\n",
              "      <td>gray</td>\n",
              "      <td>black</td>\n",
              "      <td>mercedes-benz financial services</td>\n",
              "      <td>$30600</td>\n",
              "      <td>$31000</td>\n",
              "      <td>Thu Jan 15 2015 04:30:00 GMT-0800 (PST)</td>\n",
              "    </tr>\n",
              "    <tr>\n",
              "      <th>198</th>\n",
              "      <td>2011</td>\n",
              "      <td>BMW</td>\n",
              "      <td>X3</td>\n",
              "      <td>xDrive28i</td>\n",
              "      <td>SUV</td>\n",
              "      <td>automatic</td>\n",
              "      <td>5uxwx5c52bl704002</td>\n",
              "      <td>ca</td>\n",
              "      <td>4.5</td>\n",
              "      <td>54841.0mi</td>\n",
              "      <td>gray</td>\n",
              "      <td>black</td>\n",
              "      <td>j star fiat &amp; maserati of anaheim hills</td>\n",
              "      <td>$23500</td>\n",
              "      <td>$24250</td>\n",
              "      <td>Thu Dec 18 2014 12:00:00 GMT-0800 (PST)</td>\n",
              "    </tr>\n",
              "    <tr>\n",
              "      <th>199</th>\n",
              "      <td>2011</td>\n",
              "      <td>Honda</td>\n",
              "      <td>CR-V</td>\n",
              "      <td>SE</td>\n",
              "      <td>SUV</td>\n",
              "      <td>automatic</td>\n",
              "      <td>5j6re4h41bl094148</td>\n",
              "      <td>pa</td>\n",
              "      <td>3.2</td>\n",
              "      <td>37700.0mi</td>\n",
              "      <td>gray</td>\n",
              "      <td>black</td>\n",
              "      <td>ahfc/honda lease trust/hvt, inc. eot</td>\n",
              "      <td>$15400</td>\n",
              "      <td>$14800</td>\n",
              "      <td>Fri Jan 16 2015 01:00:00 GMT-0800 (PST)</td>\n",
              "    </tr>\n",
              "  </tbody>\n",
              "</table>\n",
              "<p>200 rows × 16 columns</p>\n",
              "</div>"
            ],
            "text/plain": [
              "     year           make  ... sellingprice                                 saledate\n",
              "0    2013        Hyundai  ...       $10900  Tue Jun 02 2015 02:30:00 GMT-0700 (PDT)\n",
              "1    2014         Toyota  ...       $29900  Wed Feb 18 2015 07:15:00 GMT-0800 (PST)\n",
              "2    2012          Lexus  ...       $24200  Tue Jan 20 2015 01:30:00 GMT-0800 (PST)\n",
              "3    2002            BMW  ...        $3200  Wed Mar 04 2015 07:10:00 GMT-0800 (PST)\n",
              "4    2014           Ford  ...       $22100  Wed Feb 18 2015 06:45:00 GMT-0800 (PST)\n",
              "..    ...            ...  ...          ...                                      ...\n",
              "195  2013         Toyota  ...       $12500  Tue Jun 09 2015 05:30:00 GMT-0700 (PDT)\n",
              "196  2013            BMW  ...       $23500  Tue Jun 02 2015 02:30:00 GMT-0700 (PDT)\n",
              "197  2012  Mercedes-Benz  ...       $31000  Thu Jan 15 2015 04:30:00 GMT-0800 (PST)\n",
              "198  2011            BMW  ...       $24250  Thu Dec 18 2014 12:00:00 GMT-0800 (PST)\n",
              "199  2011          Honda  ...       $14800  Fri Jan 16 2015 01:00:00 GMT-0800 (PST)\n",
              "\n",
              "[200 rows x 16 columns]"
            ]
          },
          "metadata": {},
          "execution_count": 43
        }
      ]
    },
    {
      "cell_type": "markdown",
      "metadata": {
        "id": "p_L3KfPy0bm3"
      },
      "source": [
        "## Data Inspection\n",
        "\n",
        "Perform data inspection tasks here (recommended for data understanding)."
      ]
    },
    {
      "cell_type": "code",
      "metadata": {
        "colab": {
          "base_uri": "https://localhost:8080/",
          "height": 455
        },
        "id": "5czuECbq0bm4",
        "outputId": "204ba4cf-d8ed-47e6-9f93-f4e599336f8a"
      },
      "source": [
        "df.groupby('body').count()"
      ],
      "execution_count": 44,
      "outputs": [
        {
          "output_type": "execute_result",
          "data": {
            "text/html": [
              "<div>\n",
              "<style scoped>\n",
              "    .dataframe tbody tr th:only-of-type {\n",
              "        vertical-align: middle;\n",
              "    }\n",
              "\n",
              "    .dataframe tbody tr th {\n",
              "        vertical-align: top;\n",
              "    }\n",
              "\n",
              "    .dataframe thead th {\n",
              "        text-align: right;\n",
              "    }\n",
              "</style>\n",
              "<table border=\"1\" class=\"dataframe\">\n",
              "  <thead>\n",
              "    <tr style=\"text-align: right;\">\n",
              "      <th></th>\n",
              "      <th>year</th>\n",
              "      <th>make</th>\n",
              "      <th>model</th>\n",
              "      <th>trim</th>\n",
              "      <th>transmission</th>\n",
              "      <th>vin</th>\n",
              "      <th>state</th>\n",
              "      <th>condition</th>\n",
              "      <th>odometer</th>\n",
              "      <th>color</th>\n",
              "      <th>interior</th>\n",
              "      <th>seller</th>\n",
              "      <th>mmr</th>\n",
              "      <th>sellingprice</th>\n",
              "      <th>saledate</th>\n",
              "    </tr>\n",
              "    <tr>\n",
              "      <th>body</th>\n",
              "      <th></th>\n",
              "      <th></th>\n",
              "      <th></th>\n",
              "      <th></th>\n",
              "      <th></th>\n",
              "      <th></th>\n",
              "      <th></th>\n",
              "      <th></th>\n",
              "      <th></th>\n",
              "      <th></th>\n",
              "      <th></th>\n",
              "      <th></th>\n",
              "      <th></th>\n",
              "      <th></th>\n",
              "      <th></th>\n",
              "    </tr>\n",
              "  </thead>\n",
              "  <tbody>\n",
              "    <tr>\n",
              "      <th>Access Cab</th>\n",
              "      <td>15</td>\n",
              "      <td>15</td>\n",
              "      <td>15</td>\n",
              "      <td>15</td>\n",
              "      <td>15</td>\n",
              "      <td>15</td>\n",
              "      <td>15</td>\n",
              "      <td>15</td>\n",
              "      <td>15</td>\n",
              "      <td>15</td>\n",
              "      <td>15</td>\n",
              "      <td>15</td>\n",
              "      <td>15</td>\n",
              "      <td>15</td>\n",
              "      <td>15</td>\n",
              "    </tr>\n",
              "    <tr>\n",
              "      <th>Beetle Convertible</th>\n",
              "      <td>8</td>\n",
              "      <td>8</td>\n",
              "      <td>8</td>\n",
              "      <td>8</td>\n",
              "      <td>8</td>\n",
              "      <td>8</td>\n",
              "      <td>8</td>\n",
              "      <td>8</td>\n",
              "      <td>8</td>\n",
              "      <td>8</td>\n",
              "      <td>8</td>\n",
              "      <td>8</td>\n",
              "      <td>8</td>\n",
              "      <td>8</td>\n",
              "      <td>8</td>\n",
              "    </tr>\n",
              "    <tr>\n",
              "      <th>CTS Coupe</th>\n",
              "      <td>8</td>\n",
              "      <td>8</td>\n",
              "      <td>8</td>\n",
              "      <td>8</td>\n",
              "      <td>8</td>\n",
              "      <td>8</td>\n",
              "      <td>8</td>\n",
              "      <td>8</td>\n",
              "      <td>8</td>\n",
              "      <td>8</td>\n",
              "      <td>8</td>\n",
              "      <td>8</td>\n",
              "      <td>8</td>\n",
              "      <td>8</td>\n",
              "      <td>8</td>\n",
              "    </tr>\n",
              "    <tr>\n",
              "      <th>CTS Wagon</th>\n",
              "      <td>1</td>\n",
              "      <td>1</td>\n",
              "      <td>1</td>\n",
              "      <td>1</td>\n",
              "      <td>1</td>\n",
              "      <td>1</td>\n",
              "      <td>1</td>\n",
              "      <td>1</td>\n",
              "      <td>1</td>\n",
              "      <td>1</td>\n",
              "      <td>1</td>\n",
              "      <td>1</td>\n",
              "      <td>1</td>\n",
              "      <td>1</td>\n",
              "      <td>1</td>\n",
              "    </tr>\n",
              "    <tr>\n",
              "      <th>CTS-V Coupe</th>\n",
              "      <td>2</td>\n",
              "      <td>2</td>\n",
              "      <td>2</td>\n",
              "      <td>2</td>\n",
              "      <td>2</td>\n",
              "      <td>2</td>\n",
              "      <td>2</td>\n",
              "      <td>2</td>\n",
              "      <td>2</td>\n",
              "      <td>2</td>\n",
              "      <td>2</td>\n",
              "      <td>2</td>\n",
              "      <td>2</td>\n",
              "      <td>2</td>\n",
              "      <td>2</td>\n",
              "    </tr>\n",
              "    <tr>\n",
              "      <th>...</th>\n",
              "      <td>...</td>\n",
              "      <td>...</td>\n",
              "      <td>...</td>\n",
              "      <td>...</td>\n",
              "      <td>...</td>\n",
              "      <td>...</td>\n",
              "      <td>...</td>\n",
              "      <td>...</td>\n",
              "      <td>...</td>\n",
              "      <td>...</td>\n",
              "      <td>...</td>\n",
              "      <td>...</td>\n",
              "      <td>...</td>\n",
              "      <td>...</td>\n",
              "      <td>...</td>\n",
              "    </tr>\n",
              "    <tr>\n",
              "      <th>suv</th>\n",
              "      <td>1994</td>\n",
              "      <td>1994</td>\n",
              "      <td>1994</td>\n",
              "      <td>1994</td>\n",
              "      <td>1994</td>\n",
              "      <td>1994</td>\n",
              "      <td>1994</td>\n",
              "      <td>1994</td>\n",
              "      <td>1994</td>\n",
              "      <td>1994</td>\n",
              "      <td>1994</td>\n",
              "      <td>1994</td>\n",
              "      <td>1994</td>\n",
              "      <td>1994</td>\n",
              "      <td>1994</td>\n",
              "    </tr>\n",
              "    <tr>\n",
              "      <th>tsx sport wagon</th>\n",
              "      <td>1</td>\n",
              "      <td>1</td>\n",
              "      <td>1</td>\n",
              "      <td>1</td>\n",
              "      <td>1</td>\n",
              "      <td>1</td>\n",
              "      <td>1</td>\n",
              "      <td>1</td>\n",
              "      <td>1</td>\n",
              "      <td>1</td>\n",
              "      <td>1</td>\n",
              "      <td>1</td>\n",
              "      <td>1</td>\n",
              "      <td>1</td>\n",
              "      <td>1</td>\n",
              "    </tr>\n",
              "    <tr>\n",
              "      <th>van</th>\n",
              "      <td>52</td>\n",
              "      <td>52</td>\n",
              "      <td>52</td>\n",
              "      <td>52</td>\n",
              "      <td>52</td>\n",
              "      <td>52</td>\n",
              "      <td>52</td>\n",
              "      <td>52</td>\n",
              "      <td>52</td>\n",
              "      <td>52</td>\n",
              "      <td>52</td>\n",
              "      <td>52</td>\n",
              "      <td>52</td>\n",
              "      <td>52</td>\n",
              "      <td>52</td>\n",
              "    </tr>\n",
              "    <tr>\n",
              "      <th>wagon</th>\n",
              "      <td>219</td>\n",
              "      <td>219</td>\n",
              "      <td>219</td>\n",
              "      <td>219</td>\n",
              "      <td>219</td>\n",
              "      <td>219</td>\n",
              "      <td>219</td>\n",
              "      <td>219</td>\n",
              "      <td>219</td>\n",
              "      <td>219</td>\n",
              "      <td>219</td>\n",
              "      <td>219</td>\n",
              "      <td>219</td>\n",
              "      <td>219</td>\n",
              "      <td>219</td>\n",
              "    </tr>\n",
              "    <tr>\n",
              "      <th>xtracab</th>\n",
              "      <td>1</td>\n",
              "      <td>1</td>\n",
              "      <td>1</td>\n",
              "      <td>1</td>\n",
              "      <td>1</td>\n",
              "      <td>1</td>\n",
              "      <td>1</td>\n",
              "      <td>1</td>\n",
              "      <td>1</td>\n",
              "      <td>1</td>\n",
              "      <td>1</td>\n",
              "      <td>1</td>\n",
              "      <td>1</td>\n",
              "      <td>1</td>\n",
              "      <td>1</td>\n",
              "    </tr>\n",
              "  </tbody>\n",
              "</table>\n",
              "<p>71 rows × 15 columns</p>\n",
              "</div>"
            ],
            "text/plain": [
              "                    year  make  model  ...   mmr  sellingprice  saledate\n",
              "body                                   ...                              \n",
              "Access Cab            15    15     15  ...    15            15        15\n",
              "Beetle Convertible     8     8      8  ...     8             8         8\n",
              "CTS Coupe              8     8      8  ...     8             8         8\n",
              "CTS Wagon              1     1      1  ...     1             1         1\n",
              "CTS-V Coupe            2     2      2  ...     2             2         2\n",
              "...                  ...   ...    ...  ...   ...           ...       ...\n",
              "suv                 1994  1994   1994  ...  1994          1994      1994\n",
              "tsx sport wagon        1     1      1  ...     1             1         1\n",
              "van                   52    52     52  ...    52            52        52\n",
              "wagon                219   219    219  ...   219           219       219\n",
              "xtracab                1     1      1  ...     1             1         1\n",
              "\n",
              "[71 rows x 15 columns]"
            ]
          },
          "metadata": {},
          "execution_count": 44
        }
      ]
    },
    {
      "cell_type": "markdown",
      "metadata": {
        "id": "FFY_mUv90bm5"
      },
      "source": [
        "## Data Pre-Processing & Cleaning\n",
        "\n",
        "_Apply any data preprocessing and/or feature engineering below. Show/output the changes to the dataset._"
      ]
    },
    {
      "cell_type": "code",
      "metadata": {
        "colab": {
          "base_uri": "https://localhost:8080/",
          "height": 826
        },
        "id": "6m4PS6Rr0bm5",
        "outputId": "93ef9d6a-80e0-4e58-a2e5-66a0a773e9a6"
      },
      "source": [
        "\n",
        "df['transmission'] = df['transmission'].str.capitalize()\n",
        "df['color'] = df['color'].str.capitalize()\n",
        "df['interior'] = df['interior'].str.capitalize()\n",
        "df['seller'] = df['seller'].str.capitalize()\n",
        "df = df.rename(columns={'sellingprice': 'selling Price', 'mmr': 'Manheim Price','saledate':'sale Date','interior':'interior Color'})\n",
        "df['Sale day']=df['sale Date'].str.slice(stop=3)\n",
        "df['sale Date']=df['sale Date'].str.slice(start=3)\n",
        "df['Sale date']=df['sale Date'].str.slice(stop=12)\n",
        "df['sale Date']=df['sale Date'].str.slice(start=12)\n",
        "df = df.rename(columns={'sale Date':'Sale time'})\n",
        "df['Sale time']=df['Sale time'].str.slice(stop=13)\n",
        "df['interior Color']=df['interior Color'].replace(to_replace ='—',value ='Unknown')\n",
        "df['color']=df['color'].replace(to_replace ='—',value ='Unknown')\n",
        "df['body']=df['body'].replace(to_replace =['Suv','suv'],value ='SUV')\n",
        "\n",
        "df['make']=df['make'].replace(to_replace ='smart',value ='Smart')\n",
        "df['body']=df['body'].str.strip()\n",
        "df['body']=df['body'].replace(to_replace =['Access Cab', 'access cab','Cab Plus 4','Club Cab','Crew Cab','CrewMax Cab','Double Cab','Extended Cab','King Cab','Mega Cab','Quad Cab','Regular Cab','SuperCab','Xtracab','crew cab',\n",
        "                        'crewmax cab','double cab','extended cab','king cab','mega cab','quad cab','regular cab','regular-cab','supercab','xtracab','supercrew','SuperCrew'], \n",
        "                            value ='Pickup Truck')\n",
        "\n",
        "df['body']=df['body'].replace(to_replace =['G Sedan','Sedan','g sedan','sedan'], value = 'Sedan')\n",
        "\n",
        "\n",
        "\n",
        "df['body']=df['body'].replace(to_replace =['Beetle Convertible','Convertible','G Convertible','G37 Convertible','GranTurismo Convertible','Q60 Convertible',\n",
        "                                           'beetle convertible','convertible','g convertible','granturismo convertible',''], value = 'Convertible')\n",
        "\n",
        "df['body']=df['body'].replace(to_replace =['CTS Coupe','CTS-V Coupe','Coupe','Elantra Coupe','G Coupe','Genesis Coupe','Koup','Q60 Coupe','coupe',\n",
        "                                           'cts coupe','g coupe','genesis coupe'], value = 'Coupe')\n",
        "\n",
        "df['body']=df['body'].replace(to_replace =['CTS Wagon','TSX Sport Wagon','tsx sport wagon','wagon'],value='Wagon')\n",
        "\n",
        "df['body']=df['body'].replace(to_replace =['E-Series Van','Minivan','Promaster Cargo Van','Transit Van','Van','e-series van','minivan','promaster cargo van','van'],value='Mini-van')\n",
        "\n",
        "df['body']=df['body'].replace(to_replace =['hatchback'],value ='Hatchback')\n",
        "\n",
        "df.columns = df.columns.str.capitalize()\n",
        "\n",
        "df"
      ],
      "execution_count": 45,
      "outputs": [
        {
          "output_type": "execute_result",
          "data": {
            "text/html": [
              "<div>\n",
              "<style scoped>\n",
              "    .dataframe tbody tr th:only-of-type {\n",
              "        vertical-align: middle;\n",
              "    }\n",
              "\n",
              "    .dataframe tbody tr th {\n",
              "        vertical-align: top;\n",
              "    }\n",
              "\n",
              "    .dataframe thead th {\n",
              "        text-align: right;\n",
              "    }\n",
              "</style>\n",
              "<table border=\"1\" class=\"dataframe\">\n",
              "  <thead>\n",
              "    <tr style=\"text-align: right;\">\n",
              "      <th></th>\n",
              "      <th>Year</th>\n",
              "      <th>Make</th>\n",
              "      <th>Model</th>\n",
              "      <th>Trim</th>\n",
              "      <th>Body</th>\n",
              "      <th>Transmission</th>\n",
              "      <th>Vin</th>\n",
              "      <th>State</th>\n",
              "      <th>Condition</th>\n",
              "      <th>Odometer</th>\n",
              "      <th>Color</th>\n",
              "      <th>Interior color</th>\n",
              "      <th>Seller</th>\n",
              "      <th>Manheim price</th>\n",
              "      <th>Selling price</th>\n",
              "      <th>Sale time</th>\n",
              "      <th>Sale day</th>\n",
              "      <th>Sale date</th>\n",
              "    </tr>\n",
              "  </thead>\n",
              "  <tbody>\n",
              "    <tr>\n",
              "      <th>0</th>\n",
              "      <td>2013</td>\n",
              "      <td>Hyundai</td>\n",
              "      <td>Sonata</td>\n",
              "      <td>GLS</td>\n",
              "      <td>Sedan</td>\n",
              "      <td>Automatic</td>\n",
              "      <td>5npeb4acxdh702805</td>\n",
              "      <td>ma</td>\n",
              "      <td>3.9</td>\n",
              "      <td>50404.0mi</td>\n",
              "      <td>Black</td>\n",
              "      <td>Gray</td>\n",
              "      <td>The hertz corporation</td>\n",
              "      <td>$11000</td>\n",
              "      <td>$10900</td>\n",
              "      <td>02:30:00 GMT</td>\n",
              "      <td>Tue</td>\n",
              "      <td>Jun 02 2015</td>\n",
              "    </tr>\n",
              "    <tr>\n",
              "      <th>1</th>\n",
              "      <td>2014</td>\n",
              "      <td>Toyota</td>\n",
              "      <td>4Runner</td>\n",
              "      <td>SR5</td>\n",
              "      <td>SUV</td>\n",
              "      <td>Automatic</td>\n",
              "      <td>jtezu5jr2e5064567</td>\n",
              "      <td>fl</td>\n",
              "      <td>4.9</td>\n",
              "      <td>17846.0mi</td>\n",
              "      <td>Gray</td>\n",
              "      <td>Unknown</td>\n",
              "      <td>Award auto sales and leasing inc</td>\n",
              "      <td>$28700</td>\n",
              "      <td>$29900</td>\n",
              "      <td>07:15:00 GMT</td>\n",
              "      <td>Wed</td>\n",
              "      <td>Feb 18 2015</td>\n",
              "    </tr>\n",
              "    <tr>\n",
              "      <th>2</th>\n",
              "      <td>2012</td>\n",
              "      <td>Lexus</td>\n",
              "      <td>IS 250</td>\n",
              "      <td>Base</td>\n",
              "      <td>Sedan</td>\n",
              "      <td>Automatic</td>\n",
              "      <td>jthbf5c24c5168599</td>\n",
              "      <td>fl</td>\n",
              "      <td>4.1</td>\n",
              "      <td>21122.0mi</td>\n",
              "      <td>Silver</td>\n",
              "      <td>Black</td>\n",
              "      <td>Lexus financial services</td>\n",
              "      <td>$22200</td>\n",
              "      <td>$24200</td>\n",
              "      <td>01:30:00 GMT</td>\n",
              "      <td>Tue</td>\n",
              "      <td>Jan 20 2015</td>\n",
              "    </tr>\n",
              "    <tr>\n",
              "      <th>3</th>\n",
              "      <td>2002</td>\n",
              "      <td>BMW</td>\n",
              "      <td>X5</td>\n",
              "      <td>4.4i</td>\n",
              "      <td>SUV</td>\n",
              "      <td>Automatic</td>\n",
              "      <td>5uxfb33562lh33864</td>\n",
              "      <td>fl</td>\n",
              "      <td>1.9</td>\n",
              "      <td>145303.0mi</td>\n",
              "      <td>Black</td>\n",
              "      <td>Black</td>\n",
              "      <td>Peddle llc</td>\n",
              "      <td>$3675</td>\n",
              "      <td>$3200</td>\n",
              "      <td>07:10:00 GMT</td>\n",
              "      <td>Wed</td>\n",
              "      <td>Mar 04 2015</td>\n",
              "    </tr>\n",
              "    <tr>\n",
              "      <th>4</th>\n",
              "      <td>2014</td>\n",
              "      <td>Ford</td>\n",
              "      <td>E-Series Van</td>\n",
              "      <td>E-250</td>\n",
              "      <td>Mini-van</td>\n",
              "      <td>Automatic</td>\n",
              "      <td>1ftne2ew0eda31832</td>\n",
              "      <td>wa</td>\n",
              "      <td>4.9</td>\n",
              "      <td>6714.0mi</td>\n",
              "      <td>White</td>\n",
              "      <td>Gray</td>\n",
              "      <td>U-haul</td>\n",
              "      <td>$22500</td>\n",
              "      <td>$22100</td>\n",
              "      <td>06:45:00 GMT</td>\n",
              "      <td>Wed</td>\n",
              "      <td>Feb 18 2015</td>\n",
              "    </tr>\n",
              "    <tr>\n",
              "      <th>...</th>\n",
              "      <td>...</td>\n",
              "      <td>...</td>\n",
              "      <td>...</td>\n",
              "      <td>...</td>\n",
              "      <td>...</td>\n",
              "      <td>...</td>\n",
              "      <td>...</td>\n",
              "      <td>...</td>\n",
              "      <td>...</td>\n",
              "      <td>...</td>\n",
              "      <td>...</td>\n",
              "      <td>...</td>\n",
              "      <td>...</td>\n",
              "      <td>...</td>\n",
              "      <td>...</td>\n",
              "      <td>...</td>\n",
              "      <td>...</td>\n",
              "      <td>...</td>\n",
              "    </tr>\n",
              "    <tr>\n",
              "      <th>46573</th>\n",
              "      <td>2013</td>\n",
              "      <td>Ford</td>\n",
              "      <td>Edge</td>\n",
              "      <td>SE</td>\n",
              "      <td>SUV</td>\n",
              "      <td>Automatic</td>\n",
              "      <td>2fmdk4gc2dbc03247</td>\n",
              "      <td>va</td>\n",
              "      <td>3.5</td>\n",
              "      <td>52844.0mi</td>\n",
              "      <td>Unknown</td>\n",
              "      <td>Gray</td>\n",
              "      <td>Wheels exchange llc</td>\n",
              "      <td>$15650</td>\n",
              "      <td>$17000</td>\n",
              "      <td>09:30:00 GMT</td>\n",
              "      <td>Wed</td>\n",
              "      <td>Jan 07 2015</td>\n",
              "    </tr>\n",
              "    <tr>\n",
              "      <th>46574</th>\n",
              "      <td>2012</td>\n",
              "      <td>Infiniti</td>\n",
              "      <td>G Sedan</td>\n",
              "      <td>G37 Journey</td>\n",
              "      <td>Sedan</td>\n",
              "      <td>Automatic</td>\n",
              "      <td>jn1cv6ap9cm623162</td>\n",
              "      <td>ca</td>\n",
              "      <td>4.5</td>\n",
              "      <td>23185.0mi</td>\n",
              "      <td>Black</td>\n",
              "      <td>Black</td>\n",
              "      <td>Nissan infiniti lt</td>\n",
              "      <td>$19350</td>\n",
              "      <td>$21500</td>\n",
              "      <td>05:30:00 GMT</td>\n",
              "      <td>Thu</td>\n",
              "      <td>Jun 18 2015</td>\n",
              "    </tr>\n",
              "    <tr>\n",
              "      <th>46575</th>\n",
              "      <td>2013</td>\n",
              "      <td>BMW</td>\n",
              "      <td>3 Series</td>\n",
              "      <td>328i</td>\n",
              "      <td>Sedan</td>\n",
              "      <td>Automatic</td>\n",
              "      <td>wba3a5c56df356614</td>\n",
              "      <td>tx</td>\n",
              "      <td>4.2</td>\n",
              "      <td>45357.0mi</td>\n",
              "      <td>White</td>\n",
              "      <td>Beige</td>\n",
              "      <td>Motorcars of south texas</td>\n",
              "      <td>$22200</td>\n",
              "      <td>$22000</td>\n",
              "      <td>02:00:00 GMT</td>\n",
              "      <td>Wed</td>\n",
              "      <td>Feb 18 2015</td>\n",
              "    </tr>\n",
              "    <tr>\n",
              "      <th>46576</th>\n",
              "      <td>2013</td>\n",
              "      <td>Toyota</td>\n",
              "      <td>Camry</td>\n",
              "      <td>LE</td>\n",
              "      <td>Sedan</td>\n",
              "      <td>Automatic</td>\n",
              "      <td>4t1bf1fk8du254684</td>\n",
              "      <td>ca</td>\n",
              "      <td>3.5</td>\n",
              "      <td>43376.0mi</td>\n",
              "      <td>Black</td>\n",
              "      <td>Beige</td>\n",
              "      <td>Avis rac/san leandro</td>\n",
              "      <td>$13400</td>\n",
              "      <td>$13800</td>\n",
              "      <td>04:30:00 GMT</td>\n",
              "      <td>Wed</td>\n",
              "      <td>Jan 14 2015</td>\n",
              "    </tr>\n",
              "    <tr>\n",
              "      <th>46577</th>\n",
              "      <td>2013</td>\n",
              "      <td>Kia</td>\n",
              "      <td>Rio</td>\n",
              "      <td>LX</td>\n",
              "      <td>Sedan</td>\n",
              "      <td>Automatic</td>\n",
              "      <td>knadm4a32d6164825</td>\n",
              "      <td>ga</td>\n",
              "      <td>4.1</td>\n",
              "      <td>49953.0mi</td>\n",
              "      <td>Silver</td>\n",
              "      <td>Black</td>\n",
              "      <td>Kia motors finance</td>\n",
              "      <td>$9700</td>\n",
              "      <td>$9300</td>\n",
              "      <td>10:00:00 GMT</td>\n",
              "      <td>Thu</td>\n",
              "      <td>Dec 18 2014</td>\n",
              "    </tr>\n",
              "  </tbody>\n",
              "</table>\n",
              "<p>46578 rows × 18 columns</p>\n",
              "</div>"
            ],
            "text/plain": [
              "       Year      Make         Model  ...      Sale time Sale day     Sale date\n",
              "0      2013   Hyundai        Sonata  ...   02:30:00 GMT      Tue   Jun 02 2015\n",
              "1      2014    Toyota       4Runner  ...   07:15:00 GMT      Wed   Feb 18 2015\n",
              "2      2012     Lexus        IS 250  ...   01:30:00 GMT      Tue   Jan 20 2015\n",
              "3      2002       BMW            X5  ...   07:10:00 GMT      Wed   Mar 04 2015\n",
              "4      2014      Ford  E-Series Van  ...   06:45:00 GMT      Wed   Feb 18 2015\n",
              "...     ...       ...           ...  ...            ...      ...           ...\n",
              "46573  2013      Ford          Edge  ...   09:30:00 GMT      Wed   Jan 07 2015\n",
              "46574  2012  Infiniti       G Sedan  ...   05:30:00 GMT      Thu   Jun 18 2015\n",
              "46575  2013       BMW      3 Series  ...   02:00:00 GMT      Wed   Feb 18 2015\n",
              "46576  2013    Toyota         Camry  ...   04:30:00 GMT      Wed   Jan 14 2015\n",
              "46577  2013       Kia           Rio  ...   10:00:00 GMT      Thu   Dec 18 2014\n",
              "\n",
              "[46578 rows x 18 columns]"
            ]
          },
          "metadata": {},
          "execution_count": 45
        }
      ]
    },
    {
      "cell_type": "markdown",
      "metadata": {
        "id": "Jube_MDL0bm6"
      },
      "source": [
        "## Exploratory Data Analysis\n"
      ]
    },
    {
      "cell_type": "markdown",
      "metadata": {
        "id": "U3fqNVjk0bm6"
      },
      "source": [
        "**Q0 (example): What is the most popular car exterior color?**\n"
      ]
    },
    {
      "cell_type": "markdown",
      "metadata": {
        "id": "0rjMJ8N-0bm7"
      },
      "source": [
        "**Visualization**"
      ]
    },
    {
      "cell_type": "code",
      "metadata": {
        "colab": {
          "base_uri": "https://localhost:8080/",
          "height": 328
        },
        "id": "srZpA9310bm7",
        "outputId": "daf8c521-9e88-4504-9a41-9ee2d51acb31"
      },
      "source": [
        "# Basic, minimal plot example\n",
        "sns.countplot(x='color', data=df)"
      ],
      "execution_count": 46,
      "outputs": [
        {
          "output_type": "error",
          "ename": "ValueError",
          "evalue": "ignored",
          "traceback": [
            "\u001b[0;31m---------------------------------------------------------------------------\u001b[0m",
            "\u001b[0;31mValueError\u001b[0m                                Traceback (most recent call last)",
            "\u001b[0;32m<ipython-input-46-20619f4e3fd6>\u001b[0m in \u001b[0;36m<module>\u001b[0;34m()\u001b[0m\n\u001b[1;32m      1\u001b[0m \u001b[0;31m# Basic, minimal plot example\u001b[0m\u001b[0;34m\u001b[0m\u001b[0;34m\u001b[0m\u001b[0;34m\u001b[0m\u001b[0m\n\u001b[0;32m----> 2\u001b[0;31m \u001b[0msns\u001b[0m\u001b[0;34m.\u001b[0m\u001b[0mcountplot\u001b[0m\u001b[0;34m(\u001b[0m\u001b[0mx\u001b[0m\u001b[0;34m=\u001b[0m\u001b[0;34m'color'\u001b[0m\u001b[0;34m,\u001b[0m \u001b[0mdata\u001b[0m\u001b[0;34m=\u001b[0m\u001b[0mdf\u001b[0m\u001b[0;34m)\u001b[0m\u001b[0;34m\u001b[0m\u001b[0;34m\u001b[0m\u001b[0m\n\u001b[0m",
            "\u001b[0;32m/usr/local/lib/python3.7/dist-packages/seaborn/_decorators.py\u001b[0m in \u001b[0;36minner_f\u001b[0;34m(*args, **kwargs)\u001b[0m\n\u001b[1;32m     44\u001b[0m             )\n\u001b[1;32m     45\u001b[0m         \u001b[0mkwargs\u001b[0m\u001b[0;34m.\u001b[0m\u001b[0mupdate\u001b[0m\u001b[0;34m(\u001b[0m\u001b[0;34m{\u001b[0m\u001b[0mk\u001b[0m\u001b[0;34m:\u001b[0m \u001b[0marg\u001b[0m \u001b[0;32mfor\u001b[0m \u001b[0mk\u001b[0m\u001b[0;34m,\u001b[0m \u001b[0marg\u001b[0m \u001b[0;32min\u001b[0m \u001b[0mzip\u001b[0m\u001b[0;34m(\u001b[0m\u001b[0msig\u001b[0m\u001b[0;34m.\u001b[0m\u001b[0mparameters\u001b[0m\u001b[0;34m,\u001b[0m \u001b[0margs\u001b[0m\u001b[0;34m)\u001b[0m\u001b[0;34m}\u001b[0m\u001b[0;34m)\u001b[0m\u001b[0;34m\u001b[0m\u001b[0;34m\u001b[0m\u001b[0m\n\u001b[0;32m---> 46\u001b[0;31m         \u001b[0;32mreturn\u001b[0m \u001b[0mf\u001b[0m\u001b[0;34m(\u001b[0m\u001b[0;34m**\u001b[0m\u001b[0mkwargs\u001b[0m\u001b[0;34m)\u001b[0m\u001b[0;34m\u001b[0m\u001b[0;34m\u001b[0m\u001b[0m\n\u001b[0m\u001b[1;32m     47\u001b[0m     \u001b[0;32mreturn\u001b[0m \u001b[0minner_f\u001b[0m\u001b[0;34m\u001b[0m\u001b[0;34m\u001b[0m\u001b[0m\n\u001b[1;32m     48\u001b[0m \u001b[0;34m\u001b[0m\u001b[0m\n",
            "\u001b[0;32m/usr/local/lib/python3.7/dist-packages/seaborn/categorical.py\u001b[0m in \u001b[0;36mcountplot\u001b[0;34m(x, y, hue, data, order, hue_order, orient, color, palette, saturation, dodge, ax, **kwargs)\u001b[0m\n\u001b[1;32m   3600\u001b[0m         \u001b[0mestimator\u001b[0m\u001b[0;34m,\u001b[0m \u001b[0mci\u001b[0m\u001b[0;34m,\u001b[0m \u001b[0mn_boot\u001b[0m\u001b[0;34m,\u001b[0m \u001b[0munits\u001b[0m\u001b[0;34m,\u001b[0m \u001b[0mseed\u001b[0m\u001b[0;34m,\u001b[0m\u001b[0;34m\u001b[0m\u001b[0;34m\u001b[0m\u001b[0m\n\u001b[1;32m   3601\u001b[0m         \u001b[0morient\u001b[0m\u001b[0;34m,\u001b[0m \u001b[0mcolor\u001b[0m\u001b[0;34m,\u001b[0m \u001b[0mpalette\u001b[0m\u001b[0;34m,\u001b[0m \u001b[0msaturation\u001b[0m\u001b[0;34m,\u001b[0m\u001b[0;34m\u001b[0m\u001b[0;34m\u001b[0m\u001b[0m\n\u001b[0;32m-> 3602\u001b[0;31m         \u001b[0merrcolor\u001b[0m\u001b[0;34m,\u001b[0m \u001b[0merrwidth\u001b[0m\u001b[0;34m,\u001b[0m \u001b[0mcapsize\u001b[0m\u001b[0;34m,\u001b[0m \u001b[0mdodge\u001b[0m\u001b[0;34m\u001b[0m\u001b[0;34m\u001b[0m\u001b[0m\n\u001b[0m\u001b[1;32m   3603\u001b[0m     )\n\u001b[1;32m   3604\u001b[0m \u001b[0;34m\u001b[0m\u001b[0m\n",
            "\u001b[0;32m/usr/local/lib/python3.7/dist-packages/seaborn/categorical.py\u001b[0m in \u001b[0;36m__init__\u001b[0;34m(self, x, y, hue, data, order, hue_order, estimator, ci, n_boot, units, seed, orient, color, palette, saturation, errcolor, errwidth, capsize, dodge)\u001b[0m\n\u001b[1;32m   1583\u001b[0m         \u001b[0;34m\"\"\"Initialize the plotter.\"\"\"\u001b[0m\u001b[0;34m\u001b[0m\u001b[0;34m\u001b[0m\u001b[0m\n\u001b[1;32m   1584\u001b[0m         self.establish_variables(x, y, hue, data, orient,\n\u001b[0;32m-> 1585\u001b[0;31m                                  order, hue_order, units)\n\u001b[0m\u001b[1;32m   1586\u001b[0m         \u001b[0mself\u001b[0m\u001b[0;34m.\u001b[0m\u001b[0mestablish_colors\u001b[0m\u001b[0;34m(\u001b[0m\u001b[0mcolor\u001b[0m\u001b[0;34m,\u001b[0m \u001b[0mpalette\u001b[0m\u001b[0;34m,\u001b[0m \u001b[0msaturation\u001b[0m\u001b[0;34m)\u001b[0m\u001b[0;34m\u001b[0m\u001b[0;34m\u001b[0m\u001b[0m\n\u001b[1;32m   1587\u001b[0m         \u001b[0mself\u001b[0m\u001b[0;34m.\u001b[0m\u001b[0mestimate_statistic\u001b[0m\u001b[0;34m(\u001b[0m\u001b[0mestimator\u001b[0m\u001b[0;34m,\u001b[0m \u001b[0mci\u001b[0m\u001b[0;34m,\u001b[0m \u001b[0mn_boot\u001b[0m\u001b[0;34m,\u001b[0m \u001b[0mseed\u001b[0m\u001b[0;34m)\u001b[0m\u001b[0;34m\u001b[0m\u001b[0;34m\u001b[0m\u001b[0m\n",
            "\u001b[0;32m/usr/local/lib/python3.7/dist-packages/seaborn/categorical.py\u001b[0m in \u001b[0;36mestablish_variables\u001b[0;34m(self, x, y, hue, data, orient, order, hue_order, units)\u001b[0m\n\u001b[1;32m    151\u001b[0m                 \u001b[0;32mif\u001b[0m \u001b[0misinstance\u001b[0m\u001b[0;34m(\u001b[0m\u001b[0mvar\u001b[0m\u001b[0;34m,\u001b[0m \u001b[0mstr\u001b[0m\u001b[0;34m)\u001b[0m\u001b[0;34m:\u001b[0m\u001b[0;34m\u001b[0m\u001b[0;34m\u001b[0m\u001b[0m\n\u001b[1;32m    152\u001b[0m                     \u001b[0merr\u001b[0m \u001b[0;34m=\u001b[0m \u001b[0;34m\"Could not interpret input '{}'\"\u001b[0m\u001b[0;34m.\u001b[0m\u001b[0mformat\u001b[0m\u001b[0;34m(\u001b[0m\u001b[0mvar\u001b[0m\u001b[0;34m)\u001b[0m\u001b[0;34m\u001b[0m\u001b[0;34m\u001b[0m\u001b[0m\n\u001b[0;32m--> 153\u001b[0;31m                     \u001b[0;32mraise\u001b[0m \u001b[0mValueError\u001b[0m\u001b[0;34m(\u001b[0m\u001b[0merr\u001b[0m\u001b[0;34m)\u001b[0m\u001b[0;34m\u001b[0m\u001b[0;34m\u001b[0m\u001b[0m\n\u001b[0m\u001b[1;32m    154\u001b[0m \u001b[0;34m\u001b[0m\u001b[0m\n\u001b[1;32m    155\u001b[0m             \u001b[0;31m# Figure out the plotting orientation\u001b[0m\u001b[0;34m\u001b[0m\u001b[0;34m\u001b[0m\u001b[0;34m\u001b[0m\u001b[0m\n",
            "\u001b[0;31mValueError\u001b[0m: Could not interpret input 'color'"
          ]
        }
      ]
    },
    {
      "cell_type": "code",
      "metadata": {
        "id": "fw0cZCT80bm8"
      },
      "source": [
        "# Much better plot, with sorting in descending order, rotated x-axis labels for clarity, and a plot title\n",
        "# Your visualizations should be neatly presented like the example below.\n",
        "large_to_small = df.groupby('color').size().sort_values(ascending=False)\n",
        "sns.countplot(x='color', data=df, order=large_to_small.index).set(title='Most popular colors sold on the used car auction market')\n",
        "plt.xticks(rotation=90)\n",
        "plt.tight_layout()"
      ],
      "execution_count": null,
      "outputs": []
    },
    {
      "cell_type": "markdown",
      "metadata": {
        "id": "kQ7Z_YeI0bm8"
      },
      "source": [
        "**Example note:** _you need to answer using a visualization (above) and a written/text answer (below)._\n",
        "\n",
        "**Answer for Q0**: Black is the most popular exterior color of used cars sold in auctions, followed very closely by white."
      ]
    },
    {
      "cell_type": "markdown",
      "metadata": {
        "id": "Ipz6OJIS0bm8"
      },
      "source": [
        "**Q1: What are the most popular car brands? (mention at least 3)**\n"
      ]
    },
    {
      "cell_type": "markdown",
      "metadata": {
        "id": "S4_jx--c0bm9"
      },
      "source": [
        "**Visualization**"
      ]
    },
    {
      "cell_type": "code",
      "metadata": {
        "id": "a8MylGv_0bm9"
      },
      "source": [
        ""
      ],
      "execution_count": null,
      "outputs": []
    },
    {
      "cell_type": "markdown",
      "metadata": {
        "id": "8f47JOhr0bm9"
      },
      "source": [
        "**Answer for Q1**: Your answer here"
      ]
    },
    {
      "cell_type": "markdown",
      "metadata": {
        "id": "UZy_vHA00bm-"
      },
      "source": [
        "**Q2: Do automatic cars, on average, sell for a higher price than manual cars?**\n"
      ]
    },
    {
      "cell_type": "markdown",
      "metadata": {
        "id": "MsyhEj_10bm-"
      },
      "source": [
        "**Visualization**"
      ]
    },
    {
      "cell_type": "code",
      "metadata": {
        "id": "s87OUPPZ0bm-"
      },
      "source": [
        ""
      ],
      "execution_count": null,
      "outputs": []
    },
    {
      "cell_type": "markdown",
      "metadata": {
        "id": "ZYbxGFwF0bm-"
      },
      "source": [
        "**Answer for Q2**: Your answer here"
      ]
    },
    {
      "cell_type": "markdown",
      "metadata": {
        "id": "SrxImC420bm-"
      },
      "source": [
        "**Q3: Draw a box plot showing the distribution of the selling prices of each car make. Which car makes have the widest distribution of selling price (name two)? Which are the most expensive (name two)?**\n"
      ]
    },
    {
      "cell_type": "markdown",
      "metadata": {
        "id": "INQyncsR0bm_"
      },
      "source": [
        "**Visualization**"
      ]
    },
    {
      "cell_type": "code",
      "metadata": {
        "id": "L1q7ur1Z0bm_"
      },
      "source": [
        ""
      ],
      "execution_count": null,
      "outputs": []
    },
    {
      "cell_type": "markdown",
      "metadata": {
        "id": "sbiq0OhG0bm_"
      },
      "source": [
        "**Answer for Q3**: Your answer here"
      ]
    },
    {
      "cell_type": "markdown",
      "metadata": {
        "id": "iB_iBDM-0bm_"
      },
      "source": [
        "**Q4: How correlated is the odometer reading or mileage with the car's sale price? (Hint: plot a line of best fit.)**"
      ]
    },
    {
      "cell_type": "markdown",
      "metadata": {
        "id": "iu-a6zbl0bm_"
      },
      "source": [
        "**Visualization**"
      ]
    },
    {
      "cell_type": "code",
      "metadata": {
        "id": "Hd9RNzjA0bnA"
      },
      "source": [
        ""
      ],
      "execution_count": null,
      "outputs": []
    },
    {
      "cell_type": "markdown",
      "metadata": {
        "id": "Z7caBkCx0bnA"
      },
      "source": [
        "**Answer for Q4**: Your answer here"
      ]
    },
    {
      "cell_type": "markdown",
      "metadata": {
        "id": "e9MYmA700bnA"
      },
      "source": [
        "**Q5: Likewise, how correlated is the car's condition with its sale price? (Hint: plot a line of best fit.)**"
      ]
    },
    {
      "cell_type": "markdown",
      "metadata": {
        "id": "zC486OoD0bnA"
      },
      "source": [
        "**Visualization**"
      ]
    },
    {
      "cell_type": "code",
      "metadata": {
        "id": "LRFT4b8w0bnA"
      },
      "source": [
        ""
      ],
      "execution_count": null,
      "outputs": []
    },
    {
      "cell_type": "markdown",
      "metadata": {
        "id": "7osbOb7q0bnA"
      },
      "source": [
        "**Answer for Q5**: Your answer here"
      ]
    },
    {
      "cell_type": "markdown",
      "metadata": {
        "id": "pCABKOCp0bnA"
      },
      "source": [
        "**Q6: Are there differences in the average car price due to the car's body type? If so, rank their order and state the most expensive and least expensive car body type.**"
      ]
    },
    {
      "cell_type": "markdown",
      "metadata": {
        "id": "lqktM1zE0bnB"
      },
      "source": [
        "**Visualization**"
      ]
    },
    {
      "cell_type": "code",
      "metadata": {
        "id": "zc3e3QNm0bnB"
      },
      "source": [
        ""
      ],
      "execution_count": null,
      "outputs": []
    },
    {
      "cell_type": "markdown",
      "metadata": {
        "id": "On0mpFtK0bnB"
      },
      "source": [
        "**Answer for Q6**: Your answer here"
      ]
    },
    {
      "cell_type": "markdown",
      "metadata": {
        "id": "3ArjLTTt0bnB"
      },
      "source": [
        "## Data Preparation for Modelling\n",
        "\n",
        "_Apply any additional data preparation steps needed before modelling below. Show/output the changes to the dataset._"
      ]
    },
    {
      "cell_type": "code",
      "metadata": {
        "id": "6kX_xKB90bnB"
      },
      "source": [
        ""
      ],
      "execution_count": null,
      "outputs": []
    },
    {
      "cell_type": "markdown",
      "metadata": {
        "id": "fw5BOlwn0bnB"
      },
      "source": [
        "## Modelling\n",
        "\n",
        "_Apply the linear regression model below._"
      ]
    },
    {
      "cell_type": "code",
      "metadata": {
        "id": "g_tEEELt0bnC"
      },
      "source": [
        ""
      ],
      "execution_count": null,
      "outputs": []
    },
    {
      "cell_type": "markdown",
      "metadata": {
        "id": "a8KTVknp0bnC"
      },
      "source": [
        "## Model Evaluation & Validation\n",
        "\n",
        "_Evaluate the model you applied and check if it meets the necessary assumptions for the chosen model._"
      ]
    },
    {
      "cell_type": "code",
      "metadata": {
        "id": "Adi7k55f0bnC"
      },
      "source": [
        ""
      ],
      "execution_count": null,
      "outputs": []
    },
    {
      "cell_type": "markdown",
      "metadata": {
        "id": "AOy0zlkZ0bnC"
      },
      "source": [
        "## Conclusion and Recommendations\n",
        "\n",
        "Comment on the model accuracy and your findings from model evaluation and validation. State the problems (if any) and suggest possible solutions. Would you recommend this model for a used cars dealership that wants to get reliable estimates for used car prices?\n",
        "\n",
        "**Answer**: your answer here."
      ]
    }
  ]
}